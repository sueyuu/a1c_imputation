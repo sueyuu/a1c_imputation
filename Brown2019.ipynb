{
 "cells": [
  {
   "cell_type": "code",
   "execution_count": null,
   "metadata": {},
   "outputs": [],
   "source": [
    "# Step 2: Import libraries\n",
    "import pandas as pd\n",
    "import matplotlib.pyplot as plt\n",
    "import seaborn as sns"
   ]
  },
  {
   "cell_type": "code",
   "execution_count": null,
   "metadata": {},
   "outputs": [],
   "source": [
    "# Step 3: Load the CSV file from Google Drive\n",
    "file_path = \"brown2019_demographics.csv\"  # Update if stored elsewhere\n",
    "df = pd.read_csv(file_path)\n"
   ]
  },
  {
   "cell_type": "code",
   "execution_count": null,
   "metadata": {},
   "outputs": [],
   "source": [
    "# Step 4: Preview the data\n",
    "print(\"🔹 First 5 rows of the dataset:\")\n",
    "print(df.head())\n",
    "\n",
    "# Step 5: Basic structure and data types\n",
    "print(\"\\n🔹 DataFrame Info:\")\n",
    "print(df.info())\n",
    "\n",
    "# Step 6: Summary statistics\n",
    "print(\"\\n🔹 Summary Statistics:\")\n",
    "print(df.describe(include=\"all\"))  # Include non-numeric stats\n",
    "\n",
    "# Step 7: Check for missing data\n",
    "print(\"\\n🔹 Missing Values per Column:\")\n",
    "print(df.isnull().sum())\n",
    "\n",
    "# Step 8: Column names\n",
    "print(\"\\n🔹 Column Names:\")\n",
    "print(df.columns.tolist())"
   ]
  },
  {
   "cell_type": "code",
   "execution_count": null,
   "metadata": {},
   "outputs": [],
   "source": [
    "# # of peeps\n",
    "def print_feature_counts(df, dataset_name=\"Dataset\"):\n",
    "    print(\n",
    "        f\"\\n🔸 Feature-wise count of non-null (i.e. valid) entries in {dataset_name}:\\n\"\n",
    "    )\n",
    "    counts = df.count().sort_values(ascending=False)\n",
    "    for col, val in counts.items():\n",
    "        print(f\"{col}: {val} people\")\n",
    "\n",
    "\n",
    "print_feature_counts(df, \"brown2019_demographics.csv\")"
   ]
  },
  {
   "cell_type": "code",
   "execution_count": null,
   "metadata": {},
   "outputs": [],
   "source": [
    "# Step 9: Histogram of numerical features\n",
    "df.hist(figsize=(12, 10))\n",
    "# Step 9: Plot all numeric features in a clean grid\n",
    "import numpy as np\n",
    "\n",
    "numeric_cols = df.select_dtypes(include=[\"number\"]).columns\n",
    "num_cols = len(numeric_cols)\n",
    "cols_per_row = 4\n",
    "rows = int(np.ceil(num_cols / cols_per_row))\n",
    "\n",
    "plt.figure(figsize=(5 * cols_per_row, 4 * rows))\n",
    "for i, col in enumerate(numeric_cols, 1):\n",
    "    plt.subplot(rows, cols_per_row, i)\n",
    "    df[col].hist(bins=30)\n",
    "    plt.title(col)\n",
    "    plt.xlabel(col)\n",
    "    plt.ylabel(\"Frequency\")\n",
    "plt.tight_layout()\n",
    "plt.show()"
   ]
  },
  {
   "cell_type": "code",
   "execution_count": null,
   "metadata": {},
   "outputs": [],
   "source": [
    "# Step 10: Encode categorical columns like Gender (F → 1, M → 0)\n",
    "# You can add more columns here if needed\n",
    "gender_columns = [\"Gender\", \"Sex\"]  # common names\n",
    "for col in gender_columns:\n",
    "    if col in df.columns:\n",
    "        df[col] = df[col].map({\"F\": 1, \"M\": 0})"
   ]
  },
  {
   "cell_type": "code",
   "execution_count": null,
   "metadata": {
    "colab": {
     "base_uri": "https://localhost:8080/",
     "height": 1000
    },
    "executionInfo": {
     "elapsed": 1304,
     "status": "error",
     "timestamp": 1744289953623,
     "user": {
      "displayName": "Shem Lawalata",
      "userId": "13541090692546704517"
     },
     "user_tz": -480
    },
    "id": "v2Vi3kPwoQbC",
    "outputId": "d3736e22-807f-4758-fa9b-66fb18a25499"
   },
   "outputs": [
    {
     "name": "stdout",
     "output_type": "stream",
     "text": [
      "Drive already mounted at /content/drive; to attempt to forcibly remount, call drive.mount(\"/content/drive\", force_remount=True).\n",
      "🔹 First 5 rows of the dataset:\n",
      "   PtID  AgeAtEnrollment Gender  InsModPump  InsModInjections  \\\n",
      "0  5001               44      F         1.0               NaN   \n",
      "1  5002               31      M         1.0               NaN   \n",
      "2  5003               47      F         1.0               NaN   \n",
      "3  5004               62      M         NaN               1.0   \n",
      "4  5005               46      M         NaN               1.0   \n",
      "\n",
      "              EnrollDt                         RandDt trtGroup   PtStatus  \n",
      "0  2017-12-06 00:00:00  2017-12-26 12:43:39.693000000      SAP  Completed  \n",
      "1  2018-01-07 00:00:00  2018-01-21 15:04:37.640000000      SAP  Completed  \n",
      "2  2017-12-21 00:00:00  2018-01-11 15:21:40.877000000      CLC  Completed  \n",
      "3  2017-07-30 00:00:00  2017-08-27 13:41:27.573000000      SAP  Completed  \n",
      "4  2018-01-14 00:00:00  2018-02-13 11:41:13.410000000      CLC  Completed  \n",
      "\n",
      "🔹 DataFrame Info:\n",
      "<class 'pandas.core.frame.DataFrame'>\n",
      "RangeIndex: 170 entries, 0 to 169\n",
      "Data columns (total 9 columns):\n",
      " #   Column            Non-Null Count  Dtype  \n",
      "---  ------            --------------  -----  \n",
      " 0   PtID              170 non-null    int64  \n",
      " 1   AgeAtEnrollment   170 non-null    int64  \n",
      " 2   Gender            170 non-null    object \n",
      " 3   InsModPump        135 non-null    float64\n",
      " 4   InsModInjections  35 non-null     float64\n",
      " 5   EnrollDt          170 non-null    object \n",
      " 6   RandDt            168 non-null    object \n",
      " 7   trtGroup          168 non-null    object \n",
      " 8   PtStatus          170 non-null    object \n",
      "dtypes: float64(2), int64(2), object(5)\n",
      "memory usage: 12.1+ KB\n",
      "None\n",
      "\n",
      "🔹 Summary Statistics:\n",
      "               PtID  AgeAtEnrollment Gender  InsModPump  InsModInjections  \\\n",
      "count    170.000000       170.000000    170       135.0              35.0   \n",
      "unique          NaN              NaN      2         NaN               NaN   \n",
      "top             NaN              NaN      M         NaN               NaN   \n",
      "freq            NaN              NaN     86         NaN               NaN   \n",
      "mean    5086.441176        32.676471    NaN         1.0               1.0   \n",
      "std       49.315547        15.948365    NaN         0.0               0.0   \n",
      "min     5001.000000        14.000000    NaN         1.0               1.0   \n",
      "25%     5044.250000        17.000000    NaN         1.0               1.0   \n",
      "50%     5086.500000        28.500000    NaN         1.0               1.0   \n",
      "75%     5128.750000        44.750000    NaN         1.0               1.0   \n",
      "max     5171.000000        71.000000    NaN         1.0               1.0   \n",
      "\n",
      "                   EnrollDt                         RandDt trtGroup   PtStatus  \n",
      "count                   170                            168      168        170  \n",
      "unique                  132                            168        2          2  \n",
      "top     2018-04-21 00:00:00  2017-12-26 12:43:39.693000000      CLC  Completed  \n",
      "freq                      4                              1      112        168  \n",
      "mean                    NaN                            NaN      NaN        NaN  \n",
      "std                     NaN                            NaN      NaN        NaN  \n",
      "min                     NaN                            NaN      NaN        NaN  \n",
      "25%                     NaN                            NaN      NaN        NaN  \n",
      "50%                     NaN                            NaN      NaN        NaN  \n",
      "75%                     NaN                            NaN      NaN        NaN  \n",
      "max                     NaN                            NaN      NaN        NaN  \n",
      "\n",
      "🔹 Missing Values per Column:\n",
      "PtID                  0\n",
      "AgeAtEnrollment       0\n",
      "Gender                0\n",
      "InsModPump           35\n",
      "InsModInjections    135\n",
      "EnrollDt              0\n",
      "RandDt                2\n",
      "trtGroup              2\n",
      "PtStatus              0\n",
      "dtype: int64\n",
      "\n",
      "🔹 Column Names:\n",
      "['PtID', 'AgeAtEnrollment', 'Gender', 'InsModPump', 'InsModInjections', 'EnrollDt', 'RandDt', 'trtGroup', 'PtStatus']\n",
      "\n",
      "🔸 Detailed feature availability in brown2019_demographics.csv (by Gender & Age Range)\n",
      "\n"
     ]
    },
    {
     "ename": "KeyError",
     "evalue": "'Age'",
     "output_type": "error",
     "traceback": [
      "\u001b[0;31m---------------------------------------------------------------------------\u001b[0m",
      "\u001b[0;31mKeyError\u001b[0m                                  Traceback (most recent call last)",
      "\u001b[0;32m/usr/local/lib/python3.11/dist-packages/pandas/core/indexes/base.py\u001b[0m in \u001b[0;36mget_loc\u001b[0;34m(self, key)\u001b[0m\n\u001b[1;32m   3804\u001b[0m         \u001b[0;32mtry\u001b[0m\u001b[0;34m:\u001b[0m\u001b[0;34m\u001b[0m\u001b[0;34m\u001b[0m\u001b[0m\n\u001b[0;32m-> 3805\u001b[0;31m             \u001b[0;32mreturn\u001b[0m \u001b[0mself\u001b[0m\u001b[0;34m.\u001b[0m\u001b[0m_engine\u001b[0m\u001b[0;34m.\u001b[0m\u001b[0mget_loc\u001b[0m\u001b[0;34m(\u001b[0m\u001b[0mcasted_key\u001b[0m\u001b[0;34m)\u001b[0m\u001b[0;34m\u001b[0m\u001b[0;34m\u001b[0m\u001b[0m\n\u001b[0m\u001b[1;32m   3806\u001b[0m         \u001b[0;32mexcept\u001b[0m \u001b[0mKeyError\u001b[0m \u001b[0;32mas\u001b[0m \u001b[0merr\u001b[0m\u001b[0;34m:\u001b[0m\u001b[0;34m\u001b[0m\u001b[0;34m\u001b[0m\u001b[0m\n",
      "\u001b[0;32mindex.pyx\u001b[0m in \u001b[0;36mpandas._libs.index.IndexEngine.get_loc\u001b[0;34m()\u001b[0m\n",
      "\u001b[0;32mindex.pyx\u001b[0m in \u001b[0;36mpandas._libs.index.IndexEngine.get_loc\u001b[0;34m()\u001b[0m\n",
      "\u001b[0;32mpandas/_libs/hashtable_class_helper.pxi\u001b[0m in \u001b[0;36mpandas._libs.hashtable.PyObjectHashTable.get_item\u001b[0;34m()\u001b[0m\n",
      "\u001b[0;32mpandas/_libs/hashtable_class_helper.pxi\u001b[0m in \u001b[0;36mpandas._libs.hashtable.PyObjectHashTable.get_item\u001b[0;34m()\u001b[0m\n",
      "\u001b[0;31mKeyError\u001b[0m: 'Age'",
      "\nThe above exception was the direct cause of the following exception:\n",
      "\u001b[0;31mKeyError\u001b[0m                                  Traceback (most recent call last)",
      "\u001b[0;32m<ipython-input-10-e4bd3b710111>\u001b[0m in \u001b[0;36m<cell line: 0>\u001b[0;34m()\u001b[0m\n\u001b[1;32m     59\u001b[0m                 \u001b[0;32mif\u001b[0m \u001b[0mcol\u001b[0m \u001b[0;32mnot\u001b[0m \u001b[0;32min\u001b[0m \u001b[0;34m[\u001b[0m\u001b[0;34m'AgeGroup'\u001b[0m\u001b[0;34m,\u001b[0m \u001b[0mgender_col\u001b[0m\u001b[0;34m,\u001b[0m \u001b[0mage_col\u001b[0m\u001b[0;34m]\u001b[0m\u001b[0;34m:\u001b[0m\u001b[0;34m\u001b[0m\u001b[0;34m\u001b[0m\u001b[0m\n\u001b[1;32m     60\u001b[0m                     \u001b[0mprint\u001b[0m\u001b[0;34m(\u001b[0m\u001b[0;34mf\"    {col}: {val} people\"\u001b[0m\u001b[0;34m)\u001b[0m\u001b[0;34m\u001b[0m\u001b[0;34m\u001b[0m\u001b[0m\n\u001b[0;32m---> 61\u001b[0;31m \u001b[0manalyze_by_gender_age\u001b[0m\u001b[0;34m(\u001b[0m\u001b[0mdf\u001b[0m\u001b[0;34m,\u001b[0m \u001b[0;34m\"brown2019_demographics.csv\"\u001b[0m\u001b[0;34m)\u001b[0m\u001b[0;34m\u001b[0m\u001b[0;34m\u001b[0m\u001b[0m\n\u001b[0m\u001b[1;32m     62\u001b[0m \u001b[0;34m\u001b[0m\u001b[0m\n\u001b[1;32m     63\u001b[0m \u001b[0;34m\u001b[0m\u001b[0m\n",
      "\u001b[0;32m<ipython-input-10-e4bd3b710111>\u001b[0m in \u001b[0;36manalyze_by_gender_age\u001b[0;34m(df, dataset_name, gender_col, age_col)\u001b[0m\n\u001b[1;32m     43\u001b[0m     \u001b[0mbins\u001b[0m \u001b[0;34m=\u001b[0m \u001b[0;34m[\u001b[0m\u001b[0;36m0\u001b[0m\u001b[0;34m,\u001b[0m \u001b[0;36m18\u001b[0m\u001b[0;34m,\u001b[0m \u001b[0;36m35\u001b[0m\u001b[0;34m,\u001b[0m \u001b[0;36m60\u001b[0m\u001b[0;34m,\u001b[0m \u001b[0;36m200\u001b[0m\u001b[0;34m]\u001b[0m\u001b[0;34m\u001b[0m\u001b[0;34m\u001b[0m\u001b[0m\n\u001b[1;32m     44\u001b[0m     \u001b[0mlabels\u001b[0m \u001b[0;34m=\u001b[0m \u001b[0;34m[\u001b[0m\u001b[0;34m'0-18'\u001b[0m\u001b[0;34m,\u001b[0m \u001b[0;34m'19-35'\u001b[0m\u001b[0;34m,\u001b[0m \u001b[0;34m'36-60'\u001b[0m\u001b[0;34m,\u001b[0m \u001b[0;34m'60+'\u001b[0m\u001b[0;34m]\u001b[0m\u001b[0;34m\u001b[0m\u001b[0;34m\u001b[0m\u001b[0m\n\u001b[0;32m---> 45\u001b[0;31m     \u001b[0mdf\u001b[0m\u001b[0;34m[\u001b[0m\u001b[0;34m'AgeGroup'\u001b[0m\u001b[0;34m]\u001b[0m \u001b[0;34m=\u001b[0m \u001b[0mpd\u001b[0m\u001b[0;34m.\u001b[0m\u001b[0mcut\u001b[0m\u001b[0;34m(\u001b[0m\u001b[0mdf\u001b[0m\u001b[0;34m[\u001b[0m\u001b[0mage_col\u001b[0m\u001b[0;34m]\u001b[0m\u001b[0;34m,\u001b[0m \u001b[0mbins\u001b[0m\u001b[0;34m=\u001b[0m\u001b[0mbins\u001b[0m\u001b[0;34m,\u001b[0m \u001b[0mlabels\u001b[0m\u001b[0;34m=\u001b[0m\u001b[0mlabels\u001b[0m\u001b[0;34m,\u001b[0m \u001b[0mright\u001b[0m\u001b[0;34m=\u001b[0m\u001b[0;32mTrue\u001b[0m\u001b[0;34m)\u001b[0m\u001b[0;34m\u001b[0m\u001b[0;34m\u001b[0m\u001b[0m\n\u001b[0m\u001b[1;32m     46\u001b[0m \u001b[0;34m\u001b[0m\u001b[0m\n\u001b[1;32m     47\u001b[0m     \u001b[0;31m# Step 3: For each gender and age group, count non-null entries per column\u001b[0m\u001b[0;34m\u001b[0m\u001b[0;34m\u001b[0m\u001b[0m\n",
      "\u001b[0;32m/usr/local/lib/python3.11/dist-packages/pandas/core/frame.py\u001b[0m in \u001b[0;36m__getitem__\u001b[0;34m(self, key)\u001b[0m\n\u001b[1;32m   4100\u001b[0m             \u001b[0;32mif\u001b[0m \u001b[0mself\u001b[0m\u001b[0;34m.\u001b[0m\u001b[0mcolumns\u001b[0m\u001b[0;34m.\u001b[0m\u001b[0mnlevels\u001b[0m \u001b[0;34m>\u001b[0m \u001b[0;36m1\u001b[0m\u001b[0;34m:\u001b[0m\u001b[0;34m\u001b[0m\u001b[0;34m\u001b[0m\u001b[0m\n\u001b[1;32m   4101\u001b[0m                 \u001b[0;32mreturn\u001b[0m \u001b[0mself\u001b[0m\u001b[0;34m.\u001b[0m\u001b[0m_getitem_multilevel\u001b[0m\u001b[0;34m(\u001b[0m\u001b[0mkey\u001b[0m\u001b[0;34m)\u001b[0m\u001b[0;34m\u001b[0m\u001b[0;34m\u001b[0m\u001b[0m\n\u001b[0;32m-> 4102\u001b[0;31m             \u001b[0mindexer\u001b[0m \u001b[0;34m=\u001b[0m \u001b[0mself\u001b[0m\u001b[0;34m.\u001b[0m\u001b[0mcolumns\u001b[0m\u001b[0;34m.\u001b[0m\u001b[0mget_loc\u001b[0m\u001b[0;34m(\u001b[0m\u001b[0mkey\u001b[0m\u001b[0;34m)\u001b[0m\u001b[0;34m\u001b[0m\u001b[0;34m\u001b[0m\u001b[0m\n\u001b[0m\u001b[1;32m   4103\u001b[0m             \u001b[0;32mif\u001b[0m \u001b[0mis_integer\u001b[0m\u001b[0;34m(\u001b[0m\u001b[0mindexer\u001b[0m\u001b[0;34m)\u001b[0m\u001b[0;34m:\u001b[0m\u001b[0;34m\u001b[0m\u001b[0;34m\u001b[0m\u001b[0m\n\u001b[1;32m   4104\u001b[0m                 \u001b[0mindexer\u001b[0m \u001b[0;34m=\u001b[0m \u001b[0;34m[\u001b[0m\u001b[0mindexer\u001b[0m\u001b[0;34m]\u001b[0m\u001b[0;34m\u001b[0m\u001b[0;34m\u001b[0m\u001b[0m\n",
      "\u001b[0;32m/usr/local/lib/python3.11/dist-packages/pandas/core/indexes/base.py\u001b[0m in \u001b[0;36mget_loc\u001b[0;34m(self, key)\u001b[0m\n\u001b[1;32m   3810\u001b[0m             ):\n\u001b[1;32m   3811\u001b[0m                 \u001b[0;32mraise\u001b[0m \u001b[0mInvalidIndexError\u001b[0m\u001b[0;34m(\u001b[0m\u001b[0mkey\u001b[0m\u001b[0;34m)\u001b[0m\u001b[0;34m\u001b[0m\u001b[0;34m\u001b[0m\u001b[0m\n\u001b[0;32m-> 3812\u001b[0;31m             \u001b[0;32mraise\u001b[0m \u001b[0mKeyError\u001b[0m\u001b[0;34m(\u001b[0m\u001b[0mkey\u001b[0m\u001b[0;34m)\u001b[0m \u001b[0;32mfrom\u001b[0m \u001b[0merr\u001b[0m\u001b[0;34m\u001b[0m\u001b[0;34m\u001b[0m\u001b[0m\n\u001b[0m\u001b[1;32m   3813\u001b[0m         \u001b[0;32mexcept\u001b[0m \u001b[0mTypeError\u001b[0m\u001b[0;34m:\u001b[0m\u001b[0;34m\u001b[0m\u001b[0;34m\u001b[0m\u001b[0m\n\u001b[1;32m   3814\u001b[0m             \u001b[0;31m# If we have a listlike key, _check_indexing_error will raise\u001b[0m\u001b[0;34m\u001b[0m\u001b[0;34m\u001b[0m\u001b[0m\n",
      "\u001b[0;31mKeyError\u001b[0m: 'Age'"
     ]
    }
   ],
   "source": [
    "# Step 11: Correlation heatmap (now includes encoded gender)\n",
    "print(\"\\n🔹 Correlation heatmap (including encoded gender):\")\n",
    "numeric_df = df.select_dtypes(include=['number'])  # Only numeric columns now\n",
    "plt.figure(figsize=(10, 6))\n",
    "sns.heatmap(numeric_df.corr(), annot=True, cmap='coolwarm')\n",
    "plt.title(\"Correlation Heatmap (with Gender)\")\n",
    "plt.show()"
   ]
  },
  {
   "cell_type": "markdown",
   "metadata": {
    "id": "UuFhmgBhpWvF"
   },
   "source": []
  }
 ],
 "metadata": {
  "colab": {
   "authorship_tag": "ABX9TyNLNbqpdxP2o7Gso/omZ/68",
   "provenance": []
  },
  "kernelspec": {
   "display_name": "Python 3",
   "name": "python3"
  },
  "language_info": {
   "name": "python"
  }
 },
 "nbformat": 4,
 "nbformat_minor": 0
}
